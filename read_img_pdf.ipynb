{
 "cells": [
  {
   "cell_type": "markdown",
   "metadata": {},
   "source": [
    "# CONFIG"
   ]
  },
  {
   "cell_type": "code",
   "execution_count": 7,
   "metadata": {},
   "outputs": [],
   "source": [
    "import fitz  # PyMuPDF\n",
    "import io\n",
    "from PIL import Image\n",
    "import os"
   ]
  },
  {
   "cell_type": "markdown",
   "metadata": {},
   "source": [
    "# Capturar nomes dos arquivos"
   ]
  },
  {
   "cell_type": "code",
   "execution_count": 31,
   "metadata": {},
   "outputs": [],
   "source": [
    "def listar_arquivos(pasta):\n",
    "    # Obter uma lista com todos os arquivos na pasta\n",
    "    arquivos = os.listdir(pasta)\n",
    "    paths = []\n",
    "    # Filtrar apenas os arquivos (excluindo subpastas)\n",
    "    #arquivos = [arquivo for arquivo in arquivos if os.path.isfile(os.path.join(pasta, arquivo))]\n",
    "    for arquivo in arquivos:\n",
    "        if os.path.isfile(os.path.join(pasta, arquivo)):\n",
    "            p = pasta + '/' + arquivo\n",
    "            paths.append(p)\n",
    "\n",
    "    print(arquivos, paths)\n",
    "    return arquivos, paths"
   ]
  },
  {
   "cell_type": "markdown",
   "metadata": {},
   "source": [
    "# Sub Rotina (Extrair Imagens PDFs)"
   ]
  },
  {
   "cell_type": "code",
   "execution_count": 41,
   "metadata": {},
   "outputs": [],
   "source": [
    "def extrair_imagens_de_pdf(pdf_path, output_folder, nome_arquivo):\n",
    "    # Abrir o arquivo PDF\n",
    "    documento = fitz.open(pdf_path)\n",
    "    # Iterar pelas páginas do PDF\n",
    "    for numero_pagina in range(len(documento)):\n",
    "        pagina = documento.load_page(numero_pagina)\n",
    "        imagens = pagina.get_images(full=True)\n",
    "\n",
    "        # Iterar sobre todas as imagens encontradas\n",
    "        for i, img in enumerate(imagens):\n",
    "            xref = img[0]\n",
    "            # Extrair o objeto de imagem\n",
    "            base_image = documento.extract_image(xref)\n",
    "            imagem_bytes = base_image[\"image\"]\n",
    "\n",
    "            # Nome do arquivo de saída\n",
    "            nome_imagem = f\"{nome_arquivo}_{numero_pagina+1}_imagem_{i+1}.{base_image['ext']}\"\n",
    "            caminho_completo = f\"{output_folder}/{nome_imagem}\"\n",
    "\n",
    "            # Salvar a imagem extraída\n",
    "            if(i==3):\n",
    "                with open(caminho_completo, \"wb\") as img_file:\n",
    "                    img_file.write(imagem_bytes)\n",
    "                print(f\"Imagem salva em: {caminho_completo}\")\n",
    "\n",
    "    documento.close()"
   ]
  },
  {
   "cell_type": "markdown",
   "metadata": {},
   "source": [
    "# Uso "
   ]
  },
  {
   "cell_type": "code",
   "execution_count": 42,
   "metadata": {},
   "outputs": [
    {
     "name": "stdout",
     "output_type": "stream",
     "text": [
      "['538419.pdf', '538435 (10).pdf', '538435 (2).pdf', '538435 (3).pdf', '538435 (4).pdf', '538435 (5).pdf', '538435 (6).pdf', '538435 (8).pdf', '538435 (9).pdf'] ['C:/Users/marku/OneDrive/Doc/Scripts/Dataset Hosp Porto/Dataset OCTs PDF/538419.pdf', 'C:/Users/marku/OneDrive/Doc/Scripts/Dataset Hosp Porto/Dataset OCTs PDF/538435 (10).pdf', 'C:/Users/marku/OneDrive/Doc/Scripts/Dataset Hosp Porto/Dataset OCTs PDF/538435 (2).pdf', 'C:/Users/marku/OneDrive/Doc/Scripts/Dataset Hosp Porto/Dataset OCTs PDF/538435 (3).pdf', 'C:/Users/marku/OneDrive/Doc/Scripts/Dataset Hosp Porto/Dataset OCTs PDF/538435 (4).pdf', 'C:/Users/marku/OneDrive/Doc/Scripts/Dataset Hosp Porto/Dataset OCTs PDF/538435 (5).pdf', 'C:/Users/marku/OneDrive/Doc/Scripts/Dataset Hosp Porto/Dataset OCTs PDF/538435 (6).pdf', 'C:/Users/marku/OneDrive/Doc/Scripts/Dataset Hosp Porto/Dataset OCTs PDF/538435 (8).pdf', 'C:/Users/marku/OneDrive/Doc/Scripts/Dataset Hosp Porto/Dataset OCTs PDF/538435 (9).pdf']\n",
      "Imagem salva em: C:/Users/marku/OneDrive/Doc/Scripts/Dataset Hosp Porto/Dataset OCTs/538419.pdf_1_imagem_4.jpeg\n",
      "Imagem salva em: C:/Users/marku/OneDrive/Doc/Scripts/Dataset Hosp Porto/Dataset OCTs/538435 (10).pdf_1_imagem_4.jpeg\n",
      "Imagem salva em: C:/Users/marku/OneDrive/Doc/Scripts/Dataset Hosp Porto/Dataset OCTs/538435 (2).pdf_1_imagem_4.jpeg\n",
      "Imagem salva em: C:/Users/marku/OneDrive/Doc/Scripts/Dataset Hosp Porto/Dataset OCTs/538435 (3).pdf_1_imagem_4.jpeg\n",
      "Imagem salva em: C:/Users/marku/OneDrive/Doc/Scripts/Dataset Hosp Porto/Dataset OCTs/538435 (4).pdf_1_imagem_4.jpeg\n",
      "Imagem salva em: C:/Users/marku/OneDrive/Doc/Scripts/Dataset Hosp Porto/Dataset OCTs/538435 (5).pdf_1_imagem_4.jpeg\n",
      "Imagem salva em: C:/Users/marku/OneDrive/Doc/Scripts/Dataset Hosp Porto/Dataset OCTs/538435 (6).pdf_1_imagem_4.jpeg\n",
      "Imagem salva em: C:/Users/marku/OneDrive/Doc/Scripts/Dataset Hosp Porto/Dataset OCTs/538435 (8).pdf_1_imagem_4.jpeg\n",
      "Imagem salva em: C:/Users/marku/OneDrive/Doc/Scripts/Dataset Hosp Porto/Dataset OCTs/538435 (9).pdf_1_imagem_4.jpeg\n"
     ]
    }
   ],
   "source": [
    "# Exemplo de uso\n",
    "dataset_OCT_pdf = r\"C:\\Users\\marku\\OneDrive\\Doc\\Scripts\\Dataset Hosp Porto\\Dataset OCTs PDF\"\n",
    "dataset_OCT_pdf = dataset_OCT_pdf.replace(\"\\\\\", \"/\")\n",
    "arquivos, paths = listar_arquivos(dataset_OCT_pdf)#coletar nomes dos arquivos pdfs e caminhos\n",
    "\n",
    "# Pasta onde as imagens serão salvas\n",
    "output_folder = r\"C:\\Users\\marku\\OneDrive\\Doc\\Scripts\\Dataset Hosp Porto\\Dataset OCTs\"  \n",
    "output_folder = output_folder.replace(\"\\\\\", \"/\")\n",
    "\n",
    "\n",
    "for i in range(len(arquivos)):\n",
    "    extrair_imagens_de_pdf(paths[i], output_folder, arquivos[i])    \n",
    "\n",
    "# pdf_path = r\"C:\\Users\\marku\\OneDrive\\Doc\\Scripts\\Dataset Hosp Porto\\Dataset OCTs PDF\\538419.pdf\"\n",
    "# pdf_path = pdf_path.replace(\"\\\\\", \"/\")\n",
    "\n",
    "# #Extrair nome do arquivo PDF\n",
    "# output_folder = r\"C:\\Users\\marku\\OneDrive\\Doc\\Scripts\\Dataset Hosp Porto\\Dataset OCTs\"  # Pasta onde as imagens serão salvas\n",
    "# output_folder = output_folder.replace(\"\\\\\", \"/\")  # Pasta onde as imagens serão salvas\n",
    "\n",
    "#extrair_imagens_de_pdf(pdf_path, output_folder)"
   ]
  }
 ],
 "metadata": {
  "kernelspec": {
   "display_name": "teste",
   "language": "python",
   "name": "python3"
  },
  "language_info": {
   "codemirror_mode": {
    "name": "ipython",
    "version": 3
   },
   "file_extension": ".py",
   "mimetype": "text/x-python",
   "name": "python",
   "nbconvert_exporter": "python",
   "pygments_lexer": "ipython3",
   "version": "3.12.4"
  }
 },
 "nbformat": 4,
 "nbformat_minor": 2
}
